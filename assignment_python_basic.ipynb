{
  "cells": [
    {
      "cell_type": "raw",
      "id": "374f6022-3024-4f10-8a6a-9a062db7be84",
      "metadata": {
        "id": "374f6022-3024-4f10-8a6a-9a062db7be84"
      },
      "source": [
        "PYHTON BASIC QUESTIONS :-"
      ]
    },
    {
      "cell_type": "code",
      "execution_count": null,
      "id": "cdaccc6f-b3bd-46ae-9b17-11b828fdf509",
      "metadata": {
        "id": "cdaccc6f-b3bd-46ae-9b17-11b828fdf509"
      },
      "outputs": [],
      "source": [
        "'''\n",
        "1.What is Python, and why is it popular ?\n",
        "\n",
        "  . Python is a versatile, high-level, interpreted programming language known for its readability and ease of use. It's popular due to its simple syntax, extensive libraries, and adaptability to various fields like web development, data science, and machine learning.\n",
        "  '''"
      ]
    },
    {
      "cell_type": "code",
      "execution_count": null,
      "id": "048c3fd3-7cd5-4d4c-81ef-b414c257344a",
      "metadata": {
        "id": "048c3fd3-7cd5-4d4c-81ef-b414c257344a"
      },
      "outputs": [],
      "source": [
        "'''\n",
        "2.What is an interpreter in Python ?\n",
        "\n",
        "  . In Python, an interpreter is a program that reads and executes Python code line by line, without requiring it to be compiled into machine code beforehand. It translates each high-level statement into lower-level instructions that the computer can understand and run.\n",
        "'''"
      ]
    },
    {
      "cell_type": "code",
      "execution_count": null,
      "id": "cc16e101-53f2-4e74-bec2-4efc028519f8",
      "metadata": {
        "id": "cc16e101-53f2-4e74-bec2-4efc028519f8"
      },
      "outputs": [],
      "source": [
        "'''\n",
        "3.What are pre-defined keywords in Python?\n",
        "\n",
        "  . Pre-defined keywords are reserved words in Python that have special meanings. They are part of the Python language syntax and cannot be used as identifiers (like variable names). Examples include if, else, while, for, def, return, class, True, False, and None.\n",
        "'''"
      ]
    },
    {
      "cell_type": "code",
      "execution_count": null,
      "id": "552d1715-9a79-42e6-bdbc-ee96cb7510da",
      "metadata": {
        "id": "552d1715-9a79-42e6-bdbc-ee96cb7510da"
      },
      "outputs": [],
      "source": [
        "'''\n",
        "4.Can keywords be used as variable names?\n",
        "\n",
        "  . No, keywords cannot be used as variable names because they are reserved by Python to perform specific functions.\n",
        "'''"
      ]
    },
    {
      "cell_type": "code",
      "execution_count": null,
      "id": "ee027cca-704c-45fb-b2f0-cde83ee4eada",
      "metadata": {
        "id": "ee027cca-704c-45fb-b2f0-cde83ee4eada"
      },
      "outputs": [],
      "source": [
        "'''\n",
        "5.What is mutability in Python?\n",
        "\n",
        "  . Mutability refers to whether an object’s value can be changed after it's created:\n",
        "\n",
        "Mutable: Can be changed (e.g., list, dict, set)\n",
        "\n",
        "Immutable: Cannot be changed (e.g., int, float, str, tuple)\n",
        "'''"
      ]
    },
    {
      "cell_type": "code",
      "execution_count": null,
      "id": "22ed2c45-9d2f-4a89-b8f5-801bb9ce7f1e",
      "metadata": {
        "id": "22ed2c45-9d2f-4a89-b8f5-801bb9ce7f1e"
      },
      "outputs": [],
      "source": [
        "'''\n",
        "6.Why are lists mutable, but tuples are immutable?\n",
        "\n",
        "   . Lists are designed to be dynamic, so their elements can be modified, added, or removed.\n",
        "\n",
        "    Tuples are meant to be fixed collections; immutability makes them faster and safer to use as keys in dictionaries or elements in sets.\n",
        "'''\n"
      ]
    },
    {
      "cell_type": "code",
      "execution_count": null,
      "id": "c2692d18-3fea-4325-bcc2-b0d1a8cfa983",
      "metadata": {
        "id": "c2692d18-3fea-4325-bcc2-b0d1a8cfa983",
        "outputId": "11efba3e-b96e-45b7-a2b2-694293aac192"
      },
      "outputs": [
        {
          "data": {
            "text/plain": [
              "False"
            ]
          },
          "execution_count": 1,
          "metadata": {},
          "output_type": "execute_result"
        }
      ],
      "source": [
        "'''\n",
        "7.What is the difference between == and is operators in Python?\n",
        "\n",
        "== checks value equality (whether two variables have the same value).\n",
        "\n",
        "is checks identity equality (whether two variables refer to the exact same object in memory).\n",
        "'''\n",
        "a = [1, 2]\n",
        "b = [1, 2]\n",
        "a == b  # True\n",
        "a is b  # False"
      ]
    },
    {
      "cell_type": "code",
      "execution_count": null,
      "id": "60f4050f-bb80-40dd-b14a-bc8c8699bda2",
      "metadata": {
        "id": "60f4050f-bb80-40dd-b14a-bc8c8699bda2"
      },
      "outputs": [],
      "source": [
        "'''\n",
        "8.What are logical operators in Python?\n",
        "\n",
        "  . Logical operators are used to combine conditional statements:\n",
        "\n",
        "and: True if both conditions are true.\n",
        "\n",
        "or: True if at least one condition is true.\n",
        "\n",
        "not: Reverses the result (True becomes False, etc.).\n",
        "'''\n"
      ]
    },
    {
      "cell_type": "code",
      "execution_count": null,
      "id": "94fca9ac-2ae8-402f-9b47-e41dca088638",
      "metadata": {
        "id": "94fca9ac-2ae8-402f-9b47-e41dca088638"
      },
      "outputs": [],
      "source": [
        "'''\n",
        "9. What is type casting in Python?\n",
        "\n",
        "  . Type casting is the process of converting a variable from one data type to another, like converting a string to an integer.\n",
        "'''\n"
      ]
    },
    {
      "cell_type": "code",
      "execution_count": null,
      "id": "dc5db2d3-e8f3-47b2-b7ab-e7872b8b2051",
      "metadata": {
        "id": "dc5db2d3-e8f3-47b2-b7ab-e7872b8b2051"
      },
      "outputs": [],
      "source": [
        "'''\n",
        "10. What is the difference between implicit and explicit type casting?\n",
        "\n",
        "   . Implicit casting is done automatically by Python (e.g., int + float results in a float).\n",
        "\n",
        "Explicit casting is done manually by the programmer using functions like int(), float(), str(), etc.\n",
        "'''\n"
      ]
    },
    {
      "cell_type": "code",
      "execution_count": null,
      "id": "30854bda-4913-4a35-9842-d6a8abf404ad",
      "metadata": {
        "id": "30854bda-4913-4a35-9842-d6a8abf404ad"
      },
      "outputs": [],
      "source": [
        "'''\n",
        "11. What is the purpose of conditional statements in Python?\n",
        "\n",
        "  . Conditional statements like if, elif, and else let programs make decisions and execute code based on certain conditions being true or false\n",
        "'''"
      ]
    },
    {
      "cell_type": "code",
      "execution_count": null,
      "id": "dc1e8f83-123c-4a2f-8cf8-239aaca1929d",
      "metadata": {
        "id": "dc1e8f83-123c-4a2f-8cf8-239aaca1929d",
        "outputId": "3665eacf-692f-4bfe-b10e-a39eaa568716"
      },
      "outputs": [
        {
          "name": "stdout",
          "output_type": "stream",
          "text": [
            "Positive\n"
          ]
        }
      ],
      "source": [
        "'''\n",
        "12.How does the elif statement work?\n",
        "\n",
        "  . elif stands for \"else if\" and is used to check multiple conditions after an initial if.\n",
        "  It allows for clean, readable branching in decision-making.\n",
        "  '''\n",
        "x=1\n",
        "if x > 0:\n",
        "    print(\"Positive\")\n",
        "elif x == 0:\n",
        "    print(\"Zero\")\n",
        "else:\n",
        "    print(\"Negative\")\n"
      ]
    },
    {
      "cell_type": "code",
      "execution_count": null,
      "id": "93b9f46e-c989-4152-b2e0-e14b038d06c2",
      "metadata": {
        "id": "93b9f46e-c989-4152-b2e0-e14b038d06c2"
      },
      "outputs": [],
      "source": [
        "'''\n",
        "13. What is the difference between for and while loops?\n",
        "\n",
        "  . for loop: Used when you know in advance how many times to loop (typically over a sequence).\n",
        "\n",
        "while loop: Used when you don’t know how many times you’ll loop — it runs while a condition is True.\n",
        "'''"
      ]
    },
    {
      "cell_type": "code",
      "execution_count": null,
      "id": "e4b49c61-c83f-43bb-a55a-3a9b74470efd",
      "metadata": {
        "id": "e4b49c61-c83f-43bb-a55a-3a9b74470efd"
      },
      "outputs": [],
      "source": [
        "'''\n",
        "14.Describe a scenario where a while loop is more suitable than a for loop.\n",
        "\n",
        "  . A while loop is better when the number of iterations is not known ahead of time.\n",
        "Example: Keep asking a user for input until they enter \"quit\".\n",
        "\n",
        "'''\n",
        "user_input = \"\"\n",
        "while user_input != \"quit\":\n",
        "    user_input = input(\"Enter something (type 'quit' to exit): \")\n"
      ]
    },
    {
      "cell_type": "raw",
      "id": "210be2ee-8c6a-4a9f-ad44-8cac68e1b25c",
      "metadata": {
        "id": "210be2ee-8c6a-4a9f-ad44-8cac68e1b25c"
      },
      "source": [
        "PRACTICAL QUESTION :-"
      ]
    },
    {
      "cell_type": "code",
      "execution_count": null,
      "id": "2039715c-3fe1-4336-969f-9e8694993dbb",
      "metadata": {
        "id": "2039715c-3fe1-4336-969f-9e8694993dbb",
        "outputId": "676be794-4ea2-44af-d923-e290fc034a30"
      },
      "outputs": [
        {
          "name": "stdout",
          "output_type": "stream",
          "text": [
            "HELLO, WORLD!\n"
          ]
        }
      ],
      "source": [
        "#1 Write a Python program to print \"Hello, World!\"\n",
        "print('HELLO, WORLD!')"
      ]
    },
    {
      "cell_type": "code",
      "execution_count": null,
      "id": "bce32f19-eacb-4cf9-af2a-a70bb91dce23",
      "metadata": {
        "id": "bce32f19-eacb-4cf9-af2a-a70bb91dce23",
        "outputId": "02cb0c40-888e-4a0d-ce83-f9912cd6328a"
      },
      "outputs": [
        {
          "name": "stdout",
          "output_type": "stream",
          "text": [
            "my name is 'akhilesh' and i am 18 years old\n"
          ]
        }
      ],
      "source": [
        "#2 write a Python program that displays your name and age\n",
        "name = 'akhilesh'\n",
        "age = 18\n",
        "print(\"my name is 'akhilesh' and i am 18 years old\")"
      ]
    },
    {
      "cell_type": "code",
      "execution_count": null,
      "id": "0a3bff9a-1567-487c-8c64-aed1961ae161",
      "metadata": {
        "id": "0a3bff9a-1567-487c-8c64-aed1961ae161",
        "outputId": "038bdf32-6318-479e-f0df-42232c499746"
      },
      "outputs": [
        {
          "name": "stdout",
          "output_type": "stream",
          "text": [
            "Python Keywords:\n",
            "['False', 'None', 'True', 'and', 'as', 'assert', 'async', 'await', 'break', 'class', 'continue', 'def', 'del', 'elif', 'else', 'except', 'finally', 'for', 'from', 'global', 'if', 'import', 'in', 'is', 'lambda', 'nonlocal', 'not', 'or', 'pass', 'raise', 'return', 'try', 'while', 'with', 'yield']\n"
          ]
        }
      ],
      "source": [
        "#3 Write code to print all the pre-defined keywords in Python using the keyword library\n",
        "import keyword\n",
        "print(\"Python Keywords:\")\n",
        "print(keyword.kwlist)"
      ]
    },
    {
      "cell_type": "code",
      "execution_count": null,
      "id": "4d8d25b0-14ac-4dd6-814d-2147cfd4fc9c",
      "metadata": {
        "id": "4d8d25b0-14ac-4dd6-814d-2147cfd4fc9c",
        "outputId": "9ebf2c53-f441-4a04-a580-89ad5c3dbfff"
      },
      "outputs": [
        {
          "name": "stdin",
          "output_type": "stream",
          "text": [
            "Enter a word:  input\n"
          ]
        },
        {
          "name": "stdout",
          "output_type": "stream",
          "text": [
            "input is not a Python keyword.\n"
          ]
        }
      ],
      "source": [
        "#4 Write a program that checks if a given word is a Python keyword\n",
        "import keyword\n",
        "word = input(\"Enter a word: \")\n",
        "if keyword.iskeyword(word):\n",
        "    print(f\"{word} is a Python keyword.\")\n",
        "else:\n",
        "    print(f\"{word} is not a Python keyword.\")"
      ]
    },
    {
      "cell_type": "code",
      "execution_count": null,
      "id": "143a1389-6871-4f47-aed5-0a20bf811b14",
      "metadata": {
        "id": "143a1389-6871-4f47-aed5-0a20bf811b14",
        "outputId": "2b99f6dd-877f-4da2-cd1e-35cf5c85ffa5"
      },
      "outputs": [
        {
          "name": "stdout",
          "output_type": "stream",
          "text": [
            "Modified list: [10, 2, 3]\n",
            "Error modifying tuple: 'tuple' object does not support item assignment\n"
          ]
        }
      ],
      "source": [
        "#5  Create a list and tuple in Python, and demonstrate how attempting to change an element works differently\n",
        "#for each.\n",
        "my_list = [1, 2, 3]\n",
        "my_tuple = (1, 2, 3)\n",
        "\n",
        "my_list[0] = 10  # Works\n",
        "print(\"Modified list:\", my_list)\n",
        "\n",
        "try:\n",
        "    my_tuple[0] = 10  # Error\n",
        "except TypeError as e:\n",
        "    print(\"Error modifying tuple:\", e)\n"
      ]
    },
    {
      "cell_type": "code",
      "execution_count": null,
      "id": "1f55c8b5-240e-403a-bdb7-d8e6cdac7402",
      "metadata": {
        "id": "1f55c8b5-240e-403a-bdb7-d8e6cdac7402",
        "outputId": "5ea7c986-c569-4911-9c3f-a2f3b9767875"
      },
      "outputs": [
        {
          "name": "stdout",
          "output_type": "stream",
          "text": [
            "Inside function - a: 15\n",
            "Inside function - b: [1, 2, 3, 4]\n",
            "Outside function - x: 5\n",
            "Outside function - y: [1, 2, 3, 4]\n"
          ]
        }
      ],
      "source": [
        "#6  Write a function to demonstrate the behavior of mutable and immutable arguments.\n",
        "def modify_values(a, b):\n",
        "    a += 10           # int is immutable\n",
        "    b.append(4)       # list is mutable\n",
        "    print(\"Inside function - a:\", a)\n",
        "    print(\"Inside function - b:\", b)\n",
        "\n",
        "x = 5\n",
        "y = [1, 2, 3]\n",
        "modify_values(x, y)\n",
        "print(\"Outside function - x:\", x)\n",
        "print(\"Outside function - y:\", y)\n"
      ]
    },
    {
      "cell_type": "code",
      "execution_count": null,
      "id": "751fcaff-848f-4d8f-84ef-b688c3b64ed0",
      "metadata": {
        "id": "751fcaff-848f-4d8f-84ef-b688c3b64ed0",
        "outputId": "ed0d9947-5129-4a18-afc7-163aba45dcdd"
      },
      "outputs": [
        {
          "name": "stdin",
          "output_type": "stream",
          "text": [
            "Enter first number:  1\n",
            "Enter second number:  2\n"
          ]
        },
        {
          "name": "stdout",
          "output_type": "stream",
          "text": [
            "Sum: 3.0\n",
            "Difference: -1.0\n",
            "Product: 2.0\n",
            "Quotient: 0.5\n"
          ]
        }
      ],
      "source": [
        "#7 Write a program that performs basic arithmetic operations on two user-input numbers.\n",
        "a = float(input(\"Enter first number: \"))\n",
        "b = float(input(\"Enter second number: \"))\n",
        "\n",
        "print(\"Sum:\", a + b)\n",
        "print(\"Difference:\", a - b)\n",
        "print(\"Product:\", a * b)\n",
        "print(\"Quotient:\", a / b if b != 0 else \"Undefined (division by zero)\")\n"
      ]
    },
    {
      "cell_type": "code",
      "execution_count": null,
      "id": "9a08f547-9197-4892-af50-6b50440f5aff",
      "metadata": {
        "id": "9a08f547-9197-4892-af50-6b50440f5aff",
        "outputId": "d81d4332-6362-4796-c4eb-8b1d8c367399"
      },
      "outputs": [
        {
          "name": "stdout",
          "output_type": "stream",
          "text": [
            "a and b: False\n",
            "a or b: True\n",
            "not a: False\n"
          ]
        }
      ],
      "source": [
        "#8  Write a program to demonstrate the use of logical operators.\n",
        "a = True\n",
        "b = False\n",
        "\n",
        "print(\"a and b:\", a and b)\n",
        "print(\"a or b:\", a or b)\n",
        "print(\"not a:\", not a)\n"
      ]
    },
    {
      "cell_type": "code",
      "execution_count": null,
      "id": "d5cc235c-8dcc-4d80-a08f-2457df673e12",
      "metadata": {
        "id": "d5cc235c-8dcc-4d80-a08f-2457df673e12",
        "outputId": "c2fdedda-31a1-437f-9810-37fd34c37af0"
      },
      "outputs": [
        {
          "name": "stdin",
          "output_type": "stream",
          "text": [
            "Enter something:  12\n"
          ]
        },
        {
          "name": "stdout",
          "output_type": "stream",
          "text": [
            "Integer: 12\n",
            "Float: 12.0\n",
            "Boolean: True\n"
          ]
        }
      ],
      "source": [
        "#9  Write a Python program to convert user input from string to integer, float, and boolean types\n",
        "user_input = input(\"Enter something: \")\n",
        "as_int = int(user_input)\n",
        "as_float = float(user_input)\n",
        "as_bool = bool(user_input)\n",
        "\n",
        "print(\"Integer:\", as_int)\n",
        "print(\"Float:\", as_float)\n",
        "print(\"Boolean:\", as_bool)\n"
      ]
    },
    {
      "cell_type": "code",
      "execution_count": null,
      "id": "1f6ea082-d27c-44da-8a0c-dbd94c70c371",
      "metadata": {
        "id": "1f6ea082-d27c-44da-8a0c-dbd94c70c371",
        "outputId": "4b65d3dc-ce94-4ef6-8d3b-41952565de74"
      },
      "outputs": [
        {
          "name": "stdout",
          "output_type": "stream",
          "text": [
            "String list: ['1', '2', '3']\n",
            "Integer list: [1, 2, 3]\n"
          ]
        }
      ],
      "source": [
        "#10 write code to demonstrate type casting with list elements\n",
        "str_list = ['1', '2', '3']\n",
        "int_list = [int(i) for i in str_list]\n",
        "print(\"String list:\", str_list)\n",
        "print(\"Integer list:\", int_list)\n"
      ]
    },
    {
      "cell_type": "code",
      "execution_count": null,
      "id": "61740ed4-7bfc-48c0-9729-9ab2409e18c6",
      "metadata": {
        "id": "61740ed4-7bfc-48c0-9729-9ab2409e18c6",
        "outputId": "953a8bcb-05b6-4c73-92bf-f624881efd77"
      },
      "outputs": [
        {
          "name": "stdin",
          "output_type": "stream",
          "text": [
            "Enter a number:  7\n"
          ]
        },
        {
          "name": "stdout",
          "output_type": "stream",
          "text": [
            "Positive number\n"
          ]
        }
      ],
      "source": [
        "#11 Wnum = float(input(\"Enter a number: \"))\n",
        "num = float(input(\"Enter a number: \"))\n",
        "if num > 0:\n",
        "    print(\"Positive number\")\n",
        "elif num < 0:\n",
        "    print(\"Negative number\")\n",
        "else:\n",
        "    print(\"Zero\")\n"
      ]
    },
    {
      "cell_type": "code",
      "execution_count": null,
      "id": "984065b8-9a11-4186-8738-ab05af1a451c",
      "metadata": {
        "id": "984065b8-9a11-4186-8738-ab05af1a451c",
        "outputId": "9560df6d-2415-4879-ffcf-0e1aa7589064"
      },
      "outputs": [
        {
          "name": "stdout",
          "output_type": "stream",
          "text": [
            "1\n",
            "2\n",
            "3\n",
            "4\n",
            "5\n",
            "6\n",
            "7\n",
            "8\n",
            "9\n",
            "10\n"
          ]
        }
      ],
      "source": [
        "#12 Write a for loop to print numbers from 1 to 10.\n",
        "for i in range(1, 11):\n",
        "    print(i)\n"
      ]
    },
    {
      "cell_type": "code",
      "execution_count": null,
      "id": "1a305276-f861-4c22-9676-453f7a555b96",
      "metadata": {
        "id": "1a305276-f861-4c22-9676-453f7a555b96",
        "outputId": "211a8dcd-ed5b-42fb-8ddd-d1e1ba29930c"
      },
      "outputs": [
        {
          "name": "stdout",
          "output_type": "stream",
          "text": [
            "Sum of even numbers from 1 to 50: 650\n"
          ]
        }
      ],
      "source": [
        "#13 Write a Python program to find the sum of all even numbers between 1 and 50.\n",
        "total = 0\n",
        "for i in range(2, 51, 2):\n",
        "    total += i\n",
        "print(\"Sum of even numbers from 1 to 50:\", total)\n"
      ]
    },
    {
      "cell_type": "code",
      "execution_count": null,
      "id": "b755e858-be3f-4ce0-ae65-43aaa9c49c38",
      "metadata": {
        "id": "b755e858-be3f-4ce0-ae65-43aaa9c49c38",
        "outputId": "da7bb0e3-6888-43d8-b38d-732d2258540e"
      },
      "outputs": [
        {
          "name": "stdin",
          "output_type": "stream",
          "text": [
            "Enter a string:  akhu\n"
          ]
        },
        {
          "name": "stdout",
          "output_type": "stream",
          "text": [
            "Reversed string: uhka\n"
          ]
        }
      ],
      "source": [
        "#14 Write a program to reverse a string using a while loop.\n",
        "text = input(\"Enter a string: \")\n",
        "reversed_text = \"\"\n",
        "i = len(text) - 1\n",
        "while i >= 0:\n",
        "    reversed_text += text[i]\n",
        "    i -= 1\n",
        "print(\"Reversed string:\", reversed_text)\n"
      ]
    },
    {
      "cell_type": "code",
      "execution_count": null,
      "id": "b053f867-58a9-455d-8cff-f3c02a436ca0",
      "metadata": {
        "id": "b053f867-58a9-455d-8cff-f3c02a436ca0",
        "outputId": "d0653c9a-1beb-4c5b-a2b9-5cf454bb1a89"
      },
      "outputs": [
        {
          "name": "stdin",
          "output_type": "stream",
          "text": [
            "Enter a number:  7\n"
          ]
        },
        {
          "name": "stdout",
          "output_type": "stream",
          "text": [
            "Factorial of 7 is 5040\n"
          ]
        }
      ],
      "source": [
        "#15 Write a Python program to calculate the factorial of a number provided by the user using a while loop\n",
        "num = int(input(\"Enter a number: \"))\n",
        "factorial = 1\n",
        "i = 1\n",
        "while i <= num:\n",
        "    factorial *= i\n",
        "    i += 1\n",
        "print(f\"Factorial of {num} is {factorial}\")\n"
      ]
    },
    {
      "cell_type": "code",
      "execution_count": null,
      "id": "232e8b13-ba5e-4e65-832b-ced80f610b2b",
      "metadata": {
        "id": "232e8b13-ba5e-4e65-832b-ced80f610b2b"
      },
      "outputs": [],
      "source": []
    }
  ],
  "metadata": {
    "kernelspec": {
      "display_name": "Python [conda env:base] *",
      "language": "python",
      "name": "conda-base-py"
    },
    "language_info": {
      "codemirror_mode": {
        "name": "ipython",
        "version": 3
      },
      "file_extension": ".py",
      "mimetype": "text/x-python",
      "name": "python",
      "nbconvert_exporter": "python",
      "pygments_lexer": "ipython3",
      "version": "3.12.7"
    },
    "colab": {
      "provenance": []
    }
  },
  "nbformat": 4,
  "nbformat_minor": 5
}